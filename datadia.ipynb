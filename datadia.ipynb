{
 "cells": [
  {
   "cell_type": "code",
   "execution_count": 1,
   "metadata": {},
   "outputs": [],
   "source": [
    "import pandas as pd\n",
    "import math"
   ]
  },
  {
   "cell_type": "raw",
   "metadata": {},
   "source": [
    "dd = pd.read_csv(\"diab.csv\")\n",
    "x = []\n",
    "for i in range(3):\n",
    "    x.extend(list(dd[\"treatment{}\".format(i+1)]))\n",
    "\",\".join([str(k) for k in list(set(x))])"
   ]
  },
  {
   "cell_type": "code",
   "execution_count": 3,
   "metadata": {},
   "outputs": [],
   "source": [
    "# action maps\n",
    "maps = '0,1,2'\n",
    "maps = maps.split(\",\")\n",
    "tabs = {}\n",
    "for idx, k in enumerate(maps):\n",
    "    tabs[int(k)] = str(idx)"
   ]
  },
  {
   "cell_type": "raw",
   "metadata": {},
   "source": [
    "tabs"
   ]
  },
  {
   "cell_type": "code",
   "execution_count": 16,
   "metadata": {},
   "outputs": [],
   "source": [
    "# diassembly\n",
    "fd = open(\"diab.csv\")\n",
    "fd.readline()\n",
    "x = []\n",
    "y = []\n",
    "for idx, line in enumerate(fd):\n",
    "    line = line.strip().split(\",\")\n",
    "    item = []\n",
    "    for t in line:\n",
    "        if t == \"\":\n",
    "            item.append(\"0\")\n",
    "        else:\n",
    "            item.append(t)\n",
    "    tmp = []\n",
    "    for k in range(3):\n",
    "        for i in range(0, 6):\n",
    "            tmp.append(item[i])\n",
    "        tmp.append(item[k + 6])\n",
    "        ii = int(item[k + 9])\n",
    "        tmp.append(tabs[ii])\n",
    "        if k == 2:\n",
    "            tmp.append(\"1\")\n",
    "        else:\n",
    "            tmp.append(\"0\")\n",
    "        x.append(tmp)\n",
    "        y.append(item[-1])\n",
    "        tmp = []"
   ]
  },
  {
   "cell_type": "code",
   "execution_count": 17,
   "metadata": {},
   "outputs": [],
   "source": [
    "header = \"age,sex,BMI,activity,alcohol,race,hba,treatment,episode,reward\\n\"\n",
    "fd2 = open(\"datadia.csv\", \"w\")\n",
    "fd2.write(header)\n",
    "for k, j in zip(x, y):\n",
    "    fd2.write(\",\".join(k)+ \",\" + j + \"\\n\")"
   ]
  },
  {
   "cell_type": "raw",
   "metadata": {},
   "source": [
    "df = pd.read_csv(\"datadia.csv\")\n",
    "df"
   ]
  },
  {
   "cell_type": "code",
   "execution_count": 19,
   "metadata": {},
   "outputs": [],
   "source": [
    "# discrete variable one-hot\n",
    "df = pd.get_dummies(df)"
   ]
  },
  {
   "cell_type": "raw",
   "metadata": {},
   "source": [
    "df"
   ]
  },
  {
   "cell_type": "raw",
   "metadata": {},
   "source": [
    "df.columns"
   ]
  },
  {
   "cell_type": "raw",
   "metadata": {},
   "source": [
    "import numpy as np\n",
    "\n",
    "# z-score\n",
    "df['age'] = (df['age'] - df['age'].mean()) / df['age'].std()\n",
    "df['BMI'] = (df['BMI'] - df['BMI'].mean()) / df['BMI'].std()\n",
    "df = df.dropna()\n",
    "df"
   ]
  },
  {
   "cell_type": "raw",
   "metadata": {},
   "source": [
    "# train:test 8：2\n",
    "ratio = 0.8\n",
    "train_size = int(df.shape[0] * ratio)\n",
    "train_df = df.iloc[:train_size, :]\n",
    "test_df = df.iloc[train_size:, :]\n",
    "print(train_df.shape, test_df.shape)\n",
    "\n",
    "train_df.to_csv(\"traindia.csv\")\n",
    "test_df.to_csv(\"testdia.csv\")"
   ]
  },
  {
   "cell_type": "raw",
   "metadata": {},
   "source": [
    "pd.read_csv(\"testdia.csv\",encoding=\"utf-8\")"
   ]
  }
 ],
 "metadata": {
  "kernelspec": {
   "display_name": "Python 3",
   "language": "python",
   "name": "python3"
  },
  "language_info": {
   "codemirror_mode": {
    "name": "ipython",
    "version": 3
   },
   "file_extension": ".py",
   "mimetype": "text/x-python",
   "name": "python",
   "nbconvert_exporter": "python",
   "pygments_lexer": "ipython3",
   "version": "3.8.2"
  }
 },
 "nbformat": 4,
 "nbformat_minor": 4
}
